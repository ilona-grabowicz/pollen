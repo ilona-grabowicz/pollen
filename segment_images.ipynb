{
 "cells": [
  {
   "cell_type": "code",
   "execution_count": null,
   "metadata": {},
   "outputs": [],
   "source": [
    "import matplotlib as mpl\n",
    "import matplotlib.pyplot as plt\n",
    "import os\n",
    "\n",
    "#local package\n",
    "import segUtils"
   ]
  },
  {
   "cell_type": "code",
   "execution_count": null,
   "metadata": {},
   "outputs": [],
   "source": [
    "# Load images of the same plant species\n",
    "# Create the imgs directory for storing the segmented pollen images. \n",
    "# Fill it in with the images.\n",
    "plant_names = ['cichorei', 'keizerskaars', 'phacelia', 'wondklaver']\n",
    "\n",
    "files = os.listdir('.')\n",
    "image_size = 600\n",
    "\n",
    "if not os.path.exists('./imgs/'):\n",
    "    os.makedirs('./imgs/')\n",
    "    \n",
    "for plant in plant_names: \n",
    "    i=1\n",
    "    for filename in files:\n",
    "        if plant in filename and 'jpg' in filename:\n",
    "            image = plt.imread('./'+filename)\n",
    "            extracted_images = utils.extractDarkGrains(image, image_size)\n",
    "            for im in extracted_images:\n",
    "                mpl.image.imsave(\"imgs/\"+plant+\"_\" + str(i) + '.png', im)\n",
    "                i = i + 1"
   ]
  }
 ],
 "metadata": {
  "kernelspec": {
   "display_name": "Python 3",
   "language": "python",
   "name": "python3"
  },
  "language_info": {
   "codemirror_mode": {
    "name": "ipython",
    "version": 3
   },
   "file_extension": ".py",
   "mimetype": "text/x-python",
   "name": "python",
   "nbconvert_exporter": "python",
   "pygments_lexer": "ipython3",
   "version": "3.7.3"
  }
 },
 "nbformat": 4,
 "nbformat_minor": 2
}
