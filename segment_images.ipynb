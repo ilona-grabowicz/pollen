{
 "cells": [
  {
   "cell_type": "code",
   "execution_count": 37,
   "metadata": {},
   "outputs": [],
   "source": [
    "import numpy as np\n",
    "\n",
    "import matplotlib as mpl\n",
    "import matplotlib.pyplot as plt\n",
    "\n",
    "import os\n",
    "#%matplotlib inline\n"
   ]
  },
  {
   "cell_type": "code",
   "execution_count": 38,
   "metadata": {},
   "outputs": [],
   "source": [
    "from skimage import filters, transform, util\n",
    "\n",
    "from scipy import ndimage as ndi\n",
    "from scipy.spatial import distance_matrix\n",
    "\n",
    "from skimage.morphology import watershed\n",
    "from skimage.feature import peak_local_max"
   ]
  },
  {
   "cell_type": "code",
   "execution_count": 39,
   "metadata": {},
   "outputs": [],
   "source": [
    "def remove_close_duplicates(points, max_distance=100):\n",
    "    distances = distance_matrix(np.transpose(points), np.transpose(points))\n",
    "    mask = (np.tril(np.ones(np.shape(distances)))*(max_distance+1))\n",
    "    selection_matrix = (distances + mask)\n",
    "    duplicates =(np.where(selection_matrix < max_distance)[1])\n",
    "    return( np.delete(points, duplicates, 1) )"
   ]
  },
  {
   "cell_type": "code",
   "execution_count": 40,
   "metadata": {},
   "outputs": [],
   "source": [
    "def crop_center(img, center,size):\n",
    "    #img_width, img_length = np.shape(img)\n",
    "    \n",
    "    x,y = center\n",
    "    top = int(y-(size/2.0))\n",
    "    bottom = int(y+(size/2.0))\n",
    "    left = int(x-(size/2.0))\n",
    "    right = int(x+(size/2.0))\n",
    "    \n",
    "    return img[top:bottom,left:right]"
   ]
  },
  {
   "cell_type": "code",
   "execution_count": 41,
   "metadata": {},
   "outputs": [],
   "source": [
    "def show_images(images):\n",
    "    for image in images:\n",
    "        plt.imshow(image)\n",
    "        plt.show()"
   ]
  },
  {
   "cell_type": "code",
   "execution_count": 42,
   "metadata": {},
   "outputs": [],
   "source": [
    "def extractDarkGrains(img, size=600, verbose =False):\n",
    "    img_copy = img\n",
    "    if verbose:\n",
    "        plt.imshow(img_copy)\n",
    "        plt.show()\n",
    "    # Add margin to be able to take image of size even if grain is at the very edge of picture\n",
    "    margin_size = int(1+(size/2))\n",
    "    padding = ((margin_size,margin_size),(margin_size,margin_size),(0,0))\n",
    "    img_copy = util.pad(img_copy, padding, constant_values=np.mean(img_copy))\n",
    "    if verbose:\n",
    "        plt.imshow(img_copy)\n",
    "        plt.show()\n",
    "    mask = img_copy\n",
    "\n",
    "    # make it monochrome (green channel works the best in the case)\n",
    "    mask = mask[:,:,1]\n",
    "    if verbose:\n",
    "        plt.imshow(mask)\n",
    "        plt.show()\n",
    "\n",
    "    # blurr to avoid holes in binarization\n",
    "    blurred = filters.gaussian(mask, sigma=50)\n",
    "    if verbose:\n",
    "        plt.imshow(blurred)\n",
    "        plt.show()\n",
    "\n",
    "    #binarize - cutoff level relative to mean value to remove those pesky local maximums\n",
    "    mask =  blurred<(np.mean(blurred)*0.74)\n",
    "    if verbose:\n",
    "        plt.imshow(mask)\n",
    "        plt.show()\n",
    "    \n",
    "    #Watershed\n",
    "    distance = ndi.distance_transform_edt(mask)\n",
    "    local_maxi = peak_local_max(distance, indices=False, min_distance=1000,footprint=np.ones((50, 50)),\n",
    "                                labels=mask)\n",
    "\n",
    "    markers = ndi.label(local_maxi)[0]\n",
    "    labels = watershed(blurred,markers=markers, mask=mask, compactness=0.5)\n",
    "\n",
    "    if verbose:\n",
    "        plt.imshow(distance)\n",
    "        plt.show()\n",
    "        plt.imshow(labels)\n",
    "        plt.show()\n",
    "    un_labs = np.unique(labels)\n",
    "    if verbose:\n",
    "        print(len(np.unique(labels)))\n",
    "    sizes=[]\n",
    "    for label in un_labs[1:]:\n",
    "        sizes.append(np.sum(labels == label))\n",
    "\n",
    "    # remove results smaller than arbitrary value (1/5 of average pollen size)\n",
    "    relevant_indices = (np.where(sizes>np.float64(10000))[0])\n",
    "    maxi_centers = np.where(local_maxi)\n",
    "    relevant_centers = maxi_centers[0][relevant_indices],maxi_centers[1][relevant_indices],\n",
    "\n",
    "    relevant_centers = remove_close_duplicates(relevant_centers)\n",
    "\n",
    "    images = []\n",
    "    \n",
    "    # crop images \n",
    "    for i in range(0,len(relevant_centers[1])): \n",
    "        img_frame =crop_center(img_copy,(relevant_centers[1][i], relevant_centers[0][i]),size)\n",
    "        if verbose:\n",
    "            print( np.mean(np.abs(filters.rank.gradient(img_frame[:,:,1], np.ones((5,5))))))\n",
    "            plt.imshow(img_frame)\n",
    "            plt.show()\n",
    "        images.append(img_frame)\n",
    "        \n",
    "    return(images)"
   ]
  },
  {
   "cell_type": "code",
   "execution_count": 43,
   "metadata": {},
   "outputs": [
    {
     "name": "stdout",
     "output_type": "stream",
     "text": [
      "['cichorei 3.dng', 'cichorei2.jpg', 'cichorei.dng', 'keizerskaars.jpg', 'masterimage.py', 'Untitled.ipynb', 'cichorei2.dng', 'pollen-master', 'keizerskaars4.dng', 'process_microscopic_image.ipynb', 'cichorei.jpg', 'cichorei4.dng', 'phacelia.dng', 'keizerskaars.dng', 'phacelia.jpg', 'keizerskaars2.jpg', 'keizerskaars3.jpg', 'wondklaver.dng', 'cichorei-3.jpg', 'keizerskaars4.jpg', 'cichorei4.jpg', 'keizerskaars3.dng', 'keizerskaars2.dng', 'wondklaver.jpg', '.ipynb_checkpoints']\n"
     ]
    }
   ],
   "source": [
    "# Load images of the same plant species\n",
    "# Create the imgs directory for storing the segmented pollen images. \n",
    "# Fill it in with the images.\n",
    "plant_names = ['cichorei', 'keizerskaars', 'phacelia', 'wondklaver']\n",
    "\n",
    "files = os.listdir('..')\n",
    "image_size = 600\n",
    "\n",
    "if not os.path.exists('./imgs/'):\n",
    "    os.makedirs('./imgs/')\n",
    "    \n",
    "for plant in plant_names: \n",
    "    i=1\n",
    "    for f in files:\n",
    "        if plant in f and 'jpg' in f:\n",
    "            x = plt.imread('../'+f)\n",
    "            y = extractDarkGrains(x, image_size)\n",
    "            for im in y:\n",
    "                mpl.image.imsave(\"imgs/\"+plant+\"_\" + str(i) + '.png', im)\n",
    "                i = i + 1"
   ]
  }
 ],
 "metadata": {
  "kernelspec": {
   "display_name": "Python 3",
   "language": "python",
   "name": "python3"
  },
  "language_info": {
   "codemirror_mode": {
    "name": "ipython",
    "version": 3
   },
   "file_extension": ".py",
   "mimetype": "text/x-python",
   "name": "python",
   "nbconvert_exporter": "python",
   "pygments_lexer": "ipython3",
   "version": "3.6.9"
  }
 },
 "nbformat": 4,
 "nbformat_minor": 2
}
