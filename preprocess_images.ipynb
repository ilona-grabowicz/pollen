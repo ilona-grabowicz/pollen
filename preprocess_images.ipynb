{
 "cells": [
  {
   "cell_type": "code",
   "execution_count": null,
   "metadata": {},
   "outputs": [],
   "source": [
    "import matplotlib as mpl\n",
    "import matplotlib.pyplot as plt\n",
    "\n",
    "from tensorflow import image as tfi\n",
    "import tensorflow.keras.preprocessing.image  as tfpi\n",
    "import os"
   ]
  },
  {
   "cell_type": "code",
   "execution_count": null,
   "metadata": {},
   "outputs": [],
   "source": [
    "img_dir = \"./imgs/extracted/\"\n",
    "file_list = os.listdir(img_dir)\n",
    "file_list.remove(\".gitignore\") \n",
    "images_with_labels = ([(plt.imread(img_dir+filename)[:,:,:3],filename.split(\"_\")[0]) for filename in file_list])"
   ]
  },
  {
   "cell_type": "code",
   "execution_count": null,
   "metadata": {},
   "outputs": [],
   "source": [
    "tweak_count = 7\n",
    "preprocessed_images_with_labels = []\n",
    "for image, label in images_with_labels:\n",
    "    preprocessed_images_with_labels.append((image,label))\n",
    "    for j in range(0, tweak_count):\n",
    "        tweaked_image = tfpi.random_rotation(image,360,row_axis=0, col_axis=1, channel_axis=2,fill_mode=\"reflect\")\n",
    "        preprocessed_images_with_labels.append((tweaked_image,label))"
   ]
  },
  {
   "cell_type": "code",
   "execution_count": null,
   "metadata": {},
   "outputs": [],
   "source": [
    "output_dir ='./imgs/tweaked/' \n",
    "plant_names = ['cichorei', 'keizerskaars', 'phacelia', 'wondklaver']\n",
    "\n",
    "for plant_name in plant_names:\n",
    "    i=1\n",
    "    for image, label in preprocessed_images_with_labels:\n",
    "        if plant_name in label:\n",
    "            mpl.image.imsave(output_dir+label+\"_\" + str(i) + '.png', image)\n",
    "            i = i + 1"
   ]
  }
 ],
 "metadata": {
  "kernelspec": {
   "display_name": "Python 3",
   "language": "python",
   "name": "python3"
  },
  "language_info": {
   "codemirror_mode": {
    "name": "ipython",
    "version": 3
   },
   "file_extension": ".py",
   "mimetype": "text/x-python",
   "name": "python",
   "nbconvert_exporter": "python",
   "pygments_lexer": "ipython3",
   "version": "3.7.3"
  }
 },
 "nbformat": 4,
 "nbformat_minor": 4
}
