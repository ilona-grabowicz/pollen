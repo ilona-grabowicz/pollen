{
 "cells": [
  {
   "cell_type": "code",
   "execution_count": 13,
   "metadata": {},
   "outputs": [],
   "source": [
    "import matplotlib.pyplot as plt\n",
    "import numpy as np\n",
    "\n",
    "import tensorflow as tf\n",
    "from tensorflow.keras import layers, models\n",
    "from keras.utils import to_categorical\n",
    "\n",
    "from random import shuffle\n",
    "from os import listdir\n"
   ]
  },
  {
   "cell_type": "code",
   "execution_count": 34,
   "metadata": {},
   "outputs": [],
   "source": [
    "img_dir = \"imgs/\"\n",
    "file_list = listdir(img_dir)\n",
    "labels = ([filename.split(\"_\")[0] for filename in file_list])\n",
    "\n",
    "classnames, labels = np.unique(labels, return_inverse=True)\n",
    "\n",
    "images =([plt.imread(img_dir+filename)[:,:,:3] for filename in file_list])"
   ]
  },
  {
   "cell_type": "code",
   "execution_count": 35,
   "metadata": {},
   "outputs": [
    {
     "name": "stdout",
     "output_type": "stream",
     "text": [
      "(600, 600, 3)\n"
     ]
    }
   ],
   "source": [
    "image_shape = np.shape(images[1])\n",
    "print(image_shape)"
   ]
  },
  {
   "cell_type": "code",
   "execution_count": 36,
   "metadata": {},
   "outputs": [],
   "source": [
    "gpu_options = tf.GPUOptions(per_process_gpu_memory_fraction=0.333)\n",
    "sess = tf.Session(config=tf.ConfigProto(gpu_options=gpu_options))\n",
    "\n",
    "#config = tf.ConfigProto(\n",
    "#        device_count = {'GPU': 0}\n",
    "#    )\n",
    "#sess = tf.Session(config=config)"
   ]
  },
  {
   "cell_type": "code",
   "execution_count": 37,
   "metadata": {},
   "outputs": [],
   "source": [
    "idx = list(range(0,len(images)))\n",
    "\n",
    "shuffle(idx)\n",
    "divider = int(3*len(images)/4)\n",
    "train_idx = [idx[i] for i in list(range(0, divider)) ]\n",
    "test_idx = [idx[i] for i in list(range(divider+1, len(images)-1)) ]\n",
    "\n",
    "images_train = np.asarray([images[i] for i in train_idx])\n",
    "images_test = np.asarray([images[i] for i in test_idx])\n",
    "\n",
    "labels_train = np.asarray([labels[i] for i in train_idx])\n",
    "labels_test = np.asarray([labels[i] for i in test_idx])"
   ]
  },
  {
   "cell_type": "code",
   "execution_count": 38,
   "metadata": {},
   "outputs": [
    {
     "name": "stdout",
     "output_type": "stream",
     "text": [
      "Model: \"sequential_3\"\n",
      "_________________________________________________________________\n",
      "Layer (type)                 Output Shape              Param #   \n",
      "=================================================================\n",
      "conv2d_3 (Conv2D)            (None, 596, 596, 10)      760       \n",
      "_________________________________________________________________\n",
      "max_pooling2d_2 (MaxPooling2 (None, 298, 298, 10)      0         \n",
      "_________________________________________________________________\n",
      "conv2d_4 (Conv2D)            (None, 294, 294, 10)      2510      \n",
      "_________________________________________________________________\n",
      "max_pooling2d_3 (MaxPooling2 (None, 147, 147, 10)      0         \n",
      "_________________________________________________________________\n",
      "conv2d_5 (Conv2D)            (None, 143, 143, 10)      2510      \n",
      "_________________________________________________________________\n",
      "flatten_1 (Flatten)          (None, 204490)            0         \n",
      "_________________________________________________________________\n",
      "dense_2 (Dense)              (None, 64)                13087424  \n",
      "_________________________________________________________________\n",
      "dense_3 (Dense)              (None, 4)                 260       \n",
      "=================================================================\n",
      "Total params: 13,093,464\n",
      "Trainable params: 13,093,464\n",
      "Non-trainable params: 0\n",
      "_________________________________________________________________\n"
     ]
    }
   ],
   "source": [
    "model = models.Sequential()\n",
    "model.add(layers.Conv2D(10, (5, 5), activation='relu', input_shape=image_shape))\n",
    "model.add(layers.MaxPooling2D((2, 2)))\n",
    "model.add(layers.Conv2D(10, (5, 5), activation='relu'))\n",
    "model.add(layers.MaxPooling2D((2, 2)))\n",
    "model.add(layers.Conv2D(10, (5, 5), activation='relu'))\n",
    "model.add(layers.Flatten())\n",
    "model.add(layers.Dense(64, activation='relu'))\n",
    "model.add(layers.Dense(4, activation='softmax'))\n",
    "\n",
    "model.summary()"
   ]
  },
  {
   "cell_type": "code",
   "execution_count": 40,
   "metadata": {},
   "outputs": [
    {
     "name": "stdout",
     "output_type": "stream",
     "text": [
      "Train on 66 samples, validate on 20 samples\n",
      "Epoch 1/20\n",
      "66/66 [==============================] - 15s 220ms/sample - loss: 1.1814 - acc: 0.8939 - val_loss: 0.4780 - val_acc: 0.9000\n",
      "Epoch 2/20\n",
      "66/66 [==============================] - 12s 182ms/sample - loss: 1.6210 - acc: 0.5758 - val_loss: 1.9300 - val_acc: 0.3500\n",
      "Epoch 3/20\n",
      "66/66 [==============================] - 8s 123ms/sample - loss: 1.2801 - acc: 0.5758 - val_loss: 0.5551 - val_acc: 0.9000\n",
      "Epoch 4/20\n",
      "66/66 [==============================] - 8s 124ms/sample - loss: 0.4088 - acc: 0.9545 - val_loss: 0.4583 - val_acc: 0.8500\n",
      "Epoch 5/20\n",
      "66/66 [==============================] - 8s 126ms/sample - loss: 0.2766 - acc: 0.9091 - val_loss: 0.3579 - val_acc: 0.8500\n",
      "Epoch 6/20\n",
      "66/66 [==============================] - 8s 124ms/sample - loss: 0.2062 - acc: 0.8939 - val_loss: 0.3457 - val_acc: 0.8500\n",
      "Epoch 7/20\n",
      "66/66 [==============================] - 8s 126ms/sample - loss: 0.2366 - acc: 0.8788 - val_loss: 0.3491 - val_acc: 0.8500\n",
      "Epoch 8/20\n",
      "66/66 [==============================] - 8s 124ms/sample - loss: 0.2210 - acc: 0.8788 - val_loss: 0.3344 - val_acc: 0.8500\n",
      "Epoch 9/20\n",
      "66/66 [==============================] - 8s 127ms/sample - loss: 0.1516 - acc: 0.9091 - val_loss: 0.3323 - val_acc: 0.8500\n",
      "Epoch 10/20\n",
      "66/66 [==============================] - 9s 130ms/sample - loss: 0.1327 - acc: 0.9697 - val_loss: 0.3323 - val_acc: 0.8500\n",
      "Epoch 11/20\n",
      "66/66 [==============================] - 9s 129ms/sample - loss: 0.1007 - acc: 0.9848 - val_loss: 0.5325 - val_acc: 0.8500\n",
      "Epoch 12/20\n",
      "66/66 [==============================] - 8s 125ms/sample - loss: 0.1725 - acc: 0.9242 - val_loss: 0.3726 - val_acc: 0.8500\n",
      "Epoch 13/20\n",
      "66/66 [==============================] - 8s 128ms/sample - loss: 0.0904 - acc: 0.9848 - val_loss: 0.4062 - val_acc: 0.8500\n",
      "Epoch 14/20\n",
      "66/66 [==============================] - 8s 123ms/sample - loss: 0.1045 - acc: 1.0000 - val_loss: 0.3212 - val_acc: 0.8500\n",
      "Epoch 15/20\n",
      "66/66 [==============================] - 8s 127ms/sample - loss: 0.0679 - acc: 1.0000 - val_loss: 0.2871 - val_acc: 0.8500\n",
      "Epoch 16/20\n",
      "66/66 [==============================] - 8s 125ms/sample - loss: 0.0443 - acc: 1.0000 - val_loss: 0.3902 - val_acc: 0.8500\n",
      "Epoch 17/20\n",
      "66/66 [==============================] - 8s 126ms/sample - loss: 0.0620 - acc: 0.9697 - val_loss: 0.5144 - val_acc: 0.8500\n",
      "Epoch 18/20\n",
      "66/66 [==============================] - 8s 126ms/sample - loss: 0.0409 - acc: 0.9848 - val_loss: 0.3802 - val_acc: 0.8500\n",
      "Epoch 19/20\n",
      "66/66 [==============================] - 8s 123ms/sample - loss: 0.0142 - acc: 1.0000 - val_loss: 0.3306 - val_acc: 0.9000\n",
      "Epoch 20/20\n",
      "66/66 [==============================] - 8s 126ms/sample - loss: 0.0151 - acc: 1.0000 - val_loss: 0.3427 - val_acc: 0.8500\n"
     ]
    }
   ],
   "source": [
    "model.compile(optimizer='adam',\n",
    "              loss='sparse_categorical_crossentropy',\n",
    "              metrics=['accuracy'])\n",
    "\n",
    "history = model.fit(images_train, labels_train, epochs=20, \n",
    "                    validation_data=(images_test, labels_test))"
   ]
  }
 ],
 "metadata": {
  "kernelspec": {
   "display_name": "Python 3",
   "language": "python",
   "name": "python3"
  },
  "language_info": {
   "codemirror_mode": {
    "name": "ipython",
    "version": 3
   },
   "file_extension": ".py",
   "mimetype": "text/x-python",
   "name": "python",
   "nbconvert_exporter": "python",
   "pygments_lexer": "ipython3",
   "version": "3.7.3"
  }
 },
 "nbformat": 4,
 "nbformat_minor": 2
}
